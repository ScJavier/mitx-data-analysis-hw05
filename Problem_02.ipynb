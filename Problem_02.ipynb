{
 "cells": [
  {
   "cell_type": "code",
   "execution_count": 1,
   "id": "possible-legislature",
   "metadata": {},
   "outputs": [],
   "source": [
    "import pandas as pd\n",
    "import numpy as np\n",
    "import matplotlib.pyplot as plt\n",
    "import seaborn as sns\n",
    "import random"
   ]
  },
  {
   "cell_type": "markdown",
   "id": "ahead-slide",
   "metadata": {},
   "source": [
    "# Just run 1 time"
   ]
  },
  {
   "cell_type": "code",
   "execution_count": 2,
   "id": "dietary-consideration",
   "metadata": {},
   "outputs": [],
   "source": [
    "n_rows = 504\n",
    "n_cols = 555\n",
    "\n",
    "u = pd.read_csv('./release_gp_homework_data/OceanFlow/1u.csv', names=[i for i in range(0, n_cols)])\n",
    "v = pd.read_csv('./release_gp_homework_data/OceanFlow/1v.csv', names=[i for i in range(0, n_cols)])\n",
    "\n",
    "file_indexes = [i+1 for i in range(0, 100)]\n",
    "\n",
    "for file_index in file_indexes[1:]:\n",
    "    file_name_u = './release_gp_homework_data/OceanFlow/{}u.csv'.format(file_index)\n",
    "    file_name_v = './release_gp_homework_data/OceanFlow/{}v.csv'.format(file_index)\n",
    "    \n",
    "    df_temp_u = pd.read_csv(file_name_u, names=[i for i in range(0, n_cols)])\n",
    "    df_temp_v = pd.read_csv(file_name_v, names=[i for i in range(0, n_cols)])\n",
    "    \n",
    "    u = np.dstack([u, df_temp_u])\n",
    "    v = np.dstack([v, df_temp_v])"
   ]
  },
  {
   "cell_type": "markdown",
   "id": "searching-fleece",
   "metadata": {},
   "source": [
    "# Problema 2"
   ]
  },
  {
   "cell_type": "markdown",
   "id": "handy-musician",
   "metadata": {},
   "source": [
    "- We have 279,720 points in the grid\n",
    "- I will take at random 5% of the points in the grid (13,986 points)"
   ]
  },
  {
   "cell_type": "code",
   "execution_count": 3,
   "id": "peripheral-campbell",
   "metadata": {},
   "outputs": [],
   "source": [
    "\n",
    "\n",
    "n_coords = 1000\n",
    "sample_cols = random.choices(range(0, n_cols), k=n_coords*2)\n",
    "sample_rows = random.choices(range(0, n_rows), k=n_coords*2)\n",
    "\n",
    "sample_coords = np.column_stack([sample_rows, sample_cols])\n",
    "sample_coords = np.unique(sample_coords, axis=0)[0:n_coords]"
   ]
  },
  {
   "cell_type": "code",
   "execution_count": 4,
   "id": "third-operations",
   "metadata": {},
   "outputs": [
    {
     "name": "stderr",
     "output_type": "stream",
     "text": [
      "c:\\users\\jsant\\miniconda3\\envs\\mitx\\lib\\site-packages\\numpy\\lib\\function_base.py:2642: RuntimeWarning: invalid value encountered in true_divide\n",
      "  c /= stddev[:, None]\n",
      "c:\\users\\jsant\\miniconda3\\envs\\mitx\\lib\\site-packages\\numpy\\lib\\function_base.py:2643: RuntimeWarning: invalid value encountered in true_divide\n",
      "  c /= stddev[None, :]\n"
     ]
    }
   ],
   "source": [
    "column_indexes = [i for i in range(0, n_coords)]\n",
    "corr_u = pd.DataFrame(np.zeros([n_coords, n_coords]), columns=column_indexes)\n",
    "corr_v = pd.DataFrame(np.zeros([n_coords, n_coords]), columns=column_indexes)\n",
    "\n",
    "for i in range(0, n_coords):\n",
    "    for j in range(0, n_coords):\n",
    "        if j > i:\n",
    "            point1 = sample_coords[i]\n",
    "            point2 = sample_coords[j]\n",
    "            \n",
    "            dist = 3*np.sqrt((point1[0]-point2[0])**2 + (point1[1]-point2[1])**2)\n",
    "            if dist > 1000:\n",
    "                corr_u.iloc[i, j] = np.corrcoef(u[point1[0], point1[1], :], u[point2[0], point2[1], :])[0,1]\n",
    "                corr_v.iloc[i, j] = np.corrcoef(v[point1[0], point1[1], :], v[point2[0], point2[1], :])[0,1]\n",
    "            else:\n",
    "                corr_u.iloc[i, j] = np.nan\n",
    "                corr_v.iloc[i, j] = np.nan\n",
    "        else:\n",
    "            corr_u.iloc[i, j] = np.nan\n",
    "            corr_v.iloc[i, j] = np.nan\n",
    "\n",
    "corr_total = 0.5*corr_u + 0.5*corr_v"
   ]
  },
  {
   "cell_type": "code",
   "execution_count": 5,
   "id": "concerned-special",
   "metadata": {},
   "outputs": [],
   "source": [
    "row_max = np.argmax(np.max(corr_total, axis=1))\n",
    "col_max = np.argmax(np.max(corr_total, axis=0))"
   ]
  },
  {
   "cell_type": "code",
   "execution_count": 6,
   "id": "cubic-quarter",
   "metadata": {},
   "outputs": [
    {
     "data": {
      "text/plain": [
       "0.9235975156837856"
      ]
     },
     "execution_count": 6,
     "metadata": {},
     "output_type": "execute_result"
    }
   ],
   "source": [
    "corr_total.loc[row_max, col_max]"
   ]
  },
  {
   "cell_type": "code",
   "execution_count": 7,
   "id": "acting-fitness",
   "metadata": {},
   "outputs": [
    {
     "name": "stdout",
     "output_type": "stream",
     "text": [
      "primer punto [ 17 167]\n",
      "segundo punto [198 486]\n"
     ]
    }
   ],
   "source": [
    "print('primer punto', sample_coords[row_max])\n",
    "print('segundo punto', sample_coords[col_max])"
   ]
  },
  {
   "cell_type": "code",
   "execution_count": 8,
   "id": "ordinary-catholic",
   "metadata": {},
   "outputs": [],
   "source": [
    "point1 = sample_coords[row_max]\n",
    "point2 = sample_coords[col_max]\n",
    "\n",
    "ell = 70\n",
    "\n",
    "min_row_p1 = np.max([0, point1[0]-ell])\n",
    "max_row_p1 = np.min([n_rows, point1[0]+ell])\n",
    "\n",
    "min_col_p1 = np.max([0, point1[1]-ell])\n",
    "max_col_p1 = np.min([n_cols, point1[1]+ell])\n",
    "\n",
    "min_row_p2 = np.max([0, point2[0]-ell])\n",
    "max_row_p2 = np.min([n_rows, point2[0]+ell])\n",
    "\n",
    "min_col_p2 = np.max([0, point2[1]-ell])\n",
    "max_col_p2 = np.min([n_cols, point2[1]+ell])"
   ]
  },
  {
   "cell_type": "code",
   "execution_count": 9,
   "id": "drawn-knife",
   "metadata": {},
   "outputs": [
    {
     "name": "stderr",
     "output_type": "stream",
     "text": [
      "c:\\users\\jsant\\miniconda3\\envs\\mitx\\lib\\site-packages\\pandas\\core\\computation\\expressions.py:204: UserWarning: evaluating in Python space because the '*' operator is not supported by numexpr for the bool dtype, use '&' instead\n",
      "  warnings.warn(\n",
      "c:\\users\\jsant\\miniconda3\\envs\\mitx\\lib\\site-packages\\pandas\\core\\computation\\expressions.py:204: UserWarning: evaluating in Python space because the '*' operator is not supported by numexpr for the bool dtype, use '&' instead\n",
      "  warnings.warn(\n"
     ]
    }
   ],
   "source": [
    "corr_p1_nnp1_u = pd.DataFrame(np.zeros([n_rows, n_cols]), columns=[i for i in range(0, n_cols)])\n",
    "corr_p1_nnp1_v = pd.DataFrame(np.zeros([n_rows, n_cols]), columns=[i for i in range(0, n_cols)])\n",
    "\n",
    "corr_nnp1_p2_u = pd.DataFrame(np.zeros([n_rows, n_cols]), columns=[i for i in range(0, n_cols)])\n",
    "corr_nnp1_p2_v = pd.DataFrame(np.zeros([n_rows, n_cols]), columns=[i for i in range(0, n_cols)])\n",
    "\n",
    "corr_p2_nnp2_u = pd.DataFrame(np.zeros([n_rows, n_cols]), columns=[i for i in range(0, n_cols)])\n",
    "corr_p2_nnp2_v = pd.DataFrame(np.zeros([n_rows, n_cols]), columns=[i for i in range(0, n_cols)])\n",
    "\n",
    "corr_nnp2_p1_u = pd.DataFrame(np.zeros([n_rows, n_cols]), columns=[i for i in range(0, n_cols)])\n",
    "corr_nnp2_p1_v = pd.DataFrame(np.zeros([n_rows, n_cols]), columns=[i for i in range(0, n_cols)])\n",
    "\n",
    "for i in range(min_row_p1, max_row_p1+1):\n",
    "    for j in range(min_col_p1, max_col_p1):\n",
    "        corr_p1_nnp1_u.loc[i,j] = np.corrcoef(u[i,j,:],u[point1[0], point1[1],:])[0,1]\n",
    "        corr_p1_nnp1_v.loc[i,j] = np.corrcoef(v[i,j,:],v[point1[0], point1[1],:])[0,1]\n",
    "        \n",
    "        corr_nnp1_p2_u.loc[i,j] = np.corrcoef(u[i,j,:],u[point2[0], point2[1],:])[0,1]\n",
    "        corr_nnp1_p2_v.loc[i,j] = np.corrcoef(v[i,j,:],v[point2[0], point2[1],:])[0,1]\n",
    "\n",
    "\n",
    "for i in range(min_row_p2, max_row_p2+1):\n",
    "    for j in range(min_col_p2, max_col_p2):\n",
    "        corr_p2_nnp2_u.loc[i,j] = np.corrcoef(u[i,j,:],u[point2[0], point2[1],:])[0,1]\n",
    "        corr_p2_nnp2_v.loc[i,j] = np.corrcoef(v[i,j,:],v[point2[0], point2[1],:])[0,1]\n",
    "        \n",
    "        corr_nnp2_p1_u.loc[i,j] = np.corrcoef(u[i,j,:],u[point1[0], point1[1],:])[0,1]\n",
    "        corr_nnp2_p1_v.loc[i,j] = np.corrcoef(v[i,j,:],v[point1[0], point1[1],:])[0,1]\n",
    "        \n",
    "        \n",
    "corr_p1_nnp1_total = 0.5*corr_p1_nnp1_u + 0.5*corr_p1_nnp1_v\n",
    "quantil_p1_nnp1 = np.nanquantile(corr_p1_nnp1_total, 0.99)\n",
    "corr_nnp1_p2_total = 0.5*corr_nnp1_p2_u + 0.5*corr_nnp1_p2_v\n",
    "quantil_nnp1_p2 = np.nanquantile(corr_nnp1_p2_total, 0.99)\n",
    "\n",
    "corr_p2_nnp2_total = 0.5*corr_p2_nnp2_u + 0.5*corr_p2_nnp2_v\n",
    "quantil_p2_nnp2 = np.nanquantile(corr_p2_nnp2_total, 0.99)\n",
    "corr_nnp2_p1_total = 0.5*corr_nnp2_p1_u + 0.5*corr_nnp2_p1_v\n",
    "quantil_nnp2_p1 = np.nanquantile(corr_nnp2_p1_total, 0.99)\n",
    "\n",
    "coord_p1 = (corr_p1_nnp1_total>quantil_p1_nnp1)*(corr_nnp1_p2_total>quantil_nnp1_p2)\n",
    "coord_p2 = (corr_p2_nnp2_total>quantil_p2_nnp2)*(corr_nnp2_p1_total>quantil_nnp2_p1)\n",
    "\n",
    "\n"
   ]
  },
  {
   "cell_type": "code",
   "execution_count": 10,
   "id": "pregnant-candle",
   "metadata": {},
   "outputs": [
    {
     "data": {
      "image/png": "[encoded data removed]",
      "text/plain": [
       "<Figure size 842.4x595.44 with 2 Axes>"
      ]
     },
     "metadata": {},
     "output_type": "display_data"
    }
   ],
   "source": [
    "df_mask = pd.read_csv('./release_gp_homework_data/OceanFlow/mask.csv', names = [i for i in range(0, n_cols)])\n",
    "df_mask2 = df_mask.copy()\n",
    "\n",
    "df_mask2[coord_p1] = 0.3\n",
    "df_mask2[coord_p2] = 0.3\n",
    "\n",
    "df_mask2.loc[(point1[0]-5):(point1[0]+5), (point1[1]-5):(point1[1]+5)] = 0.8\n",
    "df_mask2.loc[(point2[0]-5):(point2[0]+5), (point2[1]-5):(point2[1]+5)] = 0.8\n",
    "\n",
    "sns.set(rc={'figure.figsize':(11.7,8.27)})\n",
    "sns.heatmap(df_mask2, cmap='viridis')\n",
    "plt.show()"
   ]
  },
  {
   "cell_type": "code",
   "execution_count": null,
   "id": "structural-behalf",
   "metadata": {},
   "outputs": [],
   "source": []
  }
 ],
 "metadata": {
  "kernelspec": {
   "display_name": "Python 3",
   "language": "python",
   "name": "python3"
  },
  "language_info": {
   "codemirror_mode": {
    "name": "ipython",
    "version": 3
   },
   "file_extension": ".py",
   "mimetype": "text/x-python",
   "name": "python",
   "nbconvert_exporter": "python",
   "pygments_lexer": "ipython3",
   "version": "3.9.1"
  }
 },
 "nbformat": 4,
 "nbformat_minor": 5
}
